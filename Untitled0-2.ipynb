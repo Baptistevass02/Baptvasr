{
  "nbformat": 4,
  "nbformat_minor": 0,
  "metadata": {
    "colab": {
      "name": "Untitled0.ipynb",
      "provenance": []
    },
    "kernelspec": {
      "name": "python3",
      "display_name": "Python 3"
    }
  },
  "cells": [
    {
      "cell_type": "code",
      "metadata": {
        "id": "W4mkeLyF3mwm",
        "colab_type": "code",
        "colab": {}
      },
      "source": [
        ""
      ],
      "execution_count": 0,
      "outputs": []
    },
    {
      "cell_type": "code",
      "metadata": {
        "id": "bilby0dP3pIW",
        "colab_type": "code",
        "colab": {
          "base_uri": "https://localhost:8080/",
          "height": 232
        },
        "outputId": "8ee34c22-2182-41a6-fdd5-948d88863845"
      },
      "source": [
        "#Importation of the modules\n",
        "print(\"Listing human proteome sequences...\", end=\"\\r\")\n",
        "Prot = \"\"\n",
        "#create an empty space\n",
        "with open(\"human-proteome.fasta\", 'r') as sequences:\n",
        "    for sequence in sequences.read().split('>')[1:]:\n",
        "        for sequenceLine in sequence.split('\\n')[1:]:\n",
        "            Prot += sequenceLine.lower()\n",
        "#we add the human proteome in Hay object, sequence by sequence, with a separation at '<' and when we go to the next line\n",
        "print(\"Done listing human proteome sequences. Length: {0}.\".format(len(Prot)))\n",
        "\n",
        "print(\"Listing all english words...\", end=\"\\r\")\n",
        "needles = []\n",
        "#create en empty list for the english words\n",
        "with open(\"english-words.txt\", 'r') as words:\n",
        "    for word in words.readlines():\n",
        "        needles.append(word[:-1])#We add the next word of the file to needles\n",
        "print(\"Done listing english words. {0} words.\".format(len(needles)))\n",
        "\n",
        "needlesInProt = []\n",
        "#creation of an object contening the words in the proteome\n",
        "i = 0\n",
        "print(\"Looking for english words in human proteome sequences...\")\n",
        "for needleInProt in needles:\n",
        "    i += 1\n",
        "    if needleInProt in Prot:\n",
        "        needlesInProt.append(needleInProt)#We add the word if there is a matching\n",
        "    print(\"{0}/{1} total words, {2}/{1} found in proteom.\".format(i, len(needles), len(needlesInProt)))\n",
        "#we search matching between english words and proteome\n",
        "print(\"\\nDone!\")\n",
        "\n",
        "print(\"{0}\".format(needlesInProt))\n",
        "# We print the results\n",
        "# Create a function to count the number of words with the same number of letters\n",
        "def count_letters(letters):\n",
        "    tab = [0] * 7\n",
        "#create a table of one line for the results    \n",
        "    for words in letters:\n",
        "        \n",
        "        tab[len(words)] += 1\n",
        "    return(tab)\n",
        "#We count the number of words with the same length starting with the smaller word to the biggest with and addition asignment\n",
        "Nbr_letters=count_letters(needlesInProt)\n",
        "print(Nbr_letters)\n",
        "#We apply this function to our list contening the words in the genome\n",
        "Ratio = [0] * 7\n",
        "for I in range (7) : \n",
        "    Ratio[I] = (Nbr_letters[I] / len(needlesInProt))\n",
        "#We realize a ratio of the number of letter with the total number of words in the proteome\n",
        "print(Nbr_letters)        \n",
        "print(Ratio)\n",
        "plt.bar(np.arange(7), Ratio  )\n",
        "#We realize a barplot thanks to matplotlib for the total of words with the different number of letters\n",
        "#We see that the 4 numbers of letters is the most represented value \n",
        "\n"
      ],
      "execution_count": 1,
      "outputs": [
        {
          "output_type": "stream",
          "text": [
            "Listing human proteome sequences...\r"
          ],
          "name": "stdout"
        },
        {
          "output_type": "error",
          "ename": "FileNotFoundError",
          "evalue": "ignored",
          "traceback": [
            "\u001b[0;31m---------------------------------------------------------------------------\u001b[0m",
            "\u001b[0;31mFileNotFoundError\u001b[0m                         Traceback (most recent call last)",
            "\u001b[0;32m<ipython-input-1-d0fab21ad8a5>\u001b[0m in \u001b[0;36m<module>\u001b[0;34m()\u001b[0m\n\u001b[1;32m      2\u001b[0m \u001b[0mProt\u001b[0m \u001b[0;34m=\u001b[0m \u001b[0;34m\"\"\u001b[0m\u001b[0;34m\u001b[0m\u001b[0;34m\u001b[0m\u001b[0m\n\u001b[1;32m      3\u001b[0m \u001b[0;31m#create an empty space\u001b[0m\u001b[0;34m\u001b[0m\u001b[0;34m\u001b[0m\u001b[0;34m\u001b[0m\u001b[0m\n\u001b[0;32m----> 4\u001b[0;31m \u001b[0;32mwith\u001b[0m \u001b[0mopen\u001b[0m\u001b[0;34m(\u001b[0m\u001b[0;34m\"human-proteome.fasta\"\u001b[0m\u001b[0;34m,\u001b[0m \u001b[0;34m'r'\u001b[0m\u001b[0;34m)\u001b[0m \u001b[0;32mas\u001b[0m \u001b[0msequences\u001b[0m\u001b[0;34m:\u001b[0m\u001b[0;34m\u001b[0m\u001b[0;34m\u001b[0m\u001b[0m\n\u001b[0m\u001b[1;32m      5\u001b[0m     \u001b[0;32mfor\u001b[0m \u001b[0msequence\u001b[0m \u001b[0;32min\u001b[0m \u001b[0msequences\u001b[0m\u001b[0;34m.\u001b[0m\u001b[0mread\u001b[0m\u001b[0;34m(\u001b[0m\u001b[0;34m)\u001b[0m\u001b[0;34m.\u001b[0m\u001b[0msplit\u001b[0m\u001b[0;34m(\u001b[0m\u001b[0;34m'>'\u001b[0m\u001b[0;34m)\u001b[0m\u001b[0;34m[\u001b[0m\u001b[0;36m1\u001b[0m\u001b[0;34m:\u001b[0m\u001b[0;34m]\u001b[0m\u001b[0;34m:\u001b[0m\u001b[0;34m\u001b[0m\u001b[0;34m\u001b[0m\u001b[0m\n\u001b[1;32m      6\u001b[0m         \u001b[0;32mfor\u001b[0m \u001b[0msequenceLine\u001b[0m \u001b[0;32min\u001b[0m \u001b[0msequence\u001b[0m\u001b[0;34m.\u001b[0m\u001b[0msplit\u001b[0m\u001b[0;34m(\u001b[0m\u001b[0;34m'\\n'\u001b[0m\u001b[0;34m)\u001b[0m\u001b[0;34m[\u001b[0m\u001b[0;36m1\u001b[0m\u001b[0;34m:\u001b[0m\u001b[0;34m]\u001b[0m\u001b[0;34m:\u001b[0m\u001b[0;34m\u001b[0m\u001b[0;34m\u001b[0m\u001b[0m\n",
            "\u001b[0;31mFileNotFoundError\u001b[0m: [Errno 2] No such file or directory: 'human-proteome.fasta'"
          ]
        }
      ]
    }
  ]
}